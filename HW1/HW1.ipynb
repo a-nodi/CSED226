{
 "cells": [
  {
   "cell_type": "markdown",
   "metadata": {},
   "source": [
    "# HW01\n",
    "In this assignment, you will practice basics of python, numpy and pandas.\n",
    "\n",
    "Please follow the instructions below:\n",
    "\n",
    "1. Write down your code between <br>\n",
    "&nbsp;&nbsp;&nbsp;&nbsp; **\\# BEGIN_YOUR_CODE**<br>\n",
    "&nbsp;&nbsp;&nbsp;&nbsp; and<br>\n",
    "&nbsp;&nbsp;&nbsp;&nbsp; **\\# END_YOUR_CODE**.\n",
    "\n",
    "2. Do not use **external libraries**. (i.e., Do not use any `import` in your code) <br>\n",
    "   Your code will fail to execute and get **0 score** if you use them.\n",
    "\n",
    "3. Rename this file to **[student_id].ipynb** (e.g. 20221234.ipynb) and submit it to PLMS. <br>\n",
    "   There is **20% penalty** if you do not follow the submission format.\n",
    "\n",
    "4. Submission more than one day late is not accepted.\n",
    "   There is **50% penalty** for late submission up to one day."
   ]
  },
  {
   "cell_type": "code",
   "execution_count": 1,
   "metadata": {},
   "outputs": [
    {
     "ename": "ModuleNotFoundError",
     "evalue": "No module named 'pandas'",
     "output_type": "error",
     "traceback": [
      "\u001b[1;31m---------------------------------------------------------------------------\u001b[0m",
      "\u001b[1;31mModuleNotFoundError\u001b[0m                       Traceback (most recent call last)",
      "\u001b[1;32mc:\\Users\\leeyo\\Downloads\\HW01\\20220923.ipynb Cell 2\u001b[0m in \u001b[0;36m<cell line: 2>\u001b[1;34m()\u001b[0m\n\u001b[0;32m      <a href='vscode-notebook-cell:/c%3A/Users/leeyo/Downloads/HW01/20220923.ipynb#W1sZmlsZQ%3D%3D?line=0'>1</a>\u001b[0m \u001b[39mimport\u001b[39;00m \u001b[39mnumpy\u001b[39;00m \u001b[39mas\u001b[39;00m \u001b[39mnp\u001b[39;00m\n\u001b[1;32m----> <a href='vscode-notebook-cell:/c%3A/Users/leeyo/Downloads/HW01/20220923.ipynb#W1sZmlsZQ%3D%3D?line=1'>2</a>\u001b[0m \u001b[39mimport\u001b[39;00m \u001b[39mpandas\u001b[39;00m \u001b[39mas\u001b[39;00m \u001b[39mpd\u001b[39;00m\n",
      "\u001b[1;31mModuleNotFoundError\u001b[0m: No module named 'pandas'"
     ]
    }
   ],
   "source": [
    "import numpy as np\n",
    "import pandas as pd"
   ]
  },
  {
   "cell_type": "markdown",
   "metadata": {},
   "source": [
    "## Problem 1. Fibonacci [2 points]\n",
    "Given `n`, implement function `fib(n)` that calculates `n`-th Fibonacci number. <br>\n",
    "Assume `n` is a positive integer and `fib(0)`=0, `fib(1)`=1."
   ]
  },
  {
   "cell_type": "code",
   "execution_count": null,
   "metadata": {},
   "outputs": [],
   "source": [
    "def fib(n):\n",
    "    # BEGIN_YOUR_CODE\n",
    "\n",
    "    # Early terminations\n",
    "    if n == 0:\n",
    "        return 0\n",
    "    \n",
    "    if n == 1:\n",
    "        return 1\n",
    "    \n",
    "    list_of_fib_num = [0, 1]  # List that contains fibonacci numbers\n",
    "    \n",
    "    # Obtain fibonacci numbers by adding previous numbers and append it to list \n",
    "    for i in range(2, n + 1):\n",
    "        list_of_fib_num.append(list_of_fib_num[i - 1] + list_of_fib_num[i - 2])\n",
    "    \n",
    "    return list_of_fib_num[-1]  # Return the last element of list (the n-th fib number)\n",
    "    # END_YOUR_CODE"
   ]
  },
  {
   "cell_type": "markdown",
   "metadata": {},
   "source": [
    "## Problem 2. Maximum Word Count [2 points]\n",
    "Given `filename`, implement function `max_word_count(filename)` that finds the most frequent words. <br>\n",
    "You should open a file whose name is `filename` and return two things as a tuple: <br>\n",
    "The first one is a set of words that occur the maximum number of times and the second one is their counts."
   ]
  },
  {
   "cell_type": "code",
   "execution_count": null,
   "metadata": {},
   "outputs": [],
   "source": [
    "def max_word_count(filename):\n",
    "    # BEGIN_YOUR_CODE\n",
    "    list_of_word = []\n",
    "    list_of_count = []\n",
    "    \n",
    "    set_of_max_word = {}\n",
    "    max_count = 0\n",
    "    \n",
    "    with open(filename, 'r') as f:  # Open file\n",
    "    \n",
    "        for line in f.readlines():  # Read each file\n",
    "            list_of_word_in_line = line.strip().split()  # strip \\n and split each words using space\n",
    "            \n",
    "            for word in list_of_word_in_line:  # walk each word\n",
    "                if word in list_of_word:  # not new word\n",
    "                    list_of_count[list_of_word.index(word)] += 1\n",
    " \n",
    "                else:  # new word\n",
    "                    list_of_word.append(word)\n",
    "                    list_of_count.append(1)\n",
    "        \n",
    "        for word, count in zip(list_of_word, list_of_count):  # each word and its count\n",
    "            if count > max_count:  # new max count detected\n",
    "                max_count = count\n",
    "                set_of_max_word = set()  # Re-initialize set of max word\n",
    "\n",
    "            if count >= max_count:\n",
    "                set_of_max_word.add(word)  # Add word to set\n",
    "        \n",
    "        return (set_of_max_word, max_count)\n",
    "            \n",
    "    # END_YOUR_CODE"
   ]
  },
  {
   "cell_type": "markdown",
   "metadata": {},
   "source": [
    "## Problem 3. Average Price [3 points]\n",
    "Given `cars`, implement function `average_prices(cars)` that returns a dictionary which contains each `brand` as a key and the average price of cars of that `brand` as a value."
   ]
  },
  {
   "cell_type": "code",
   "execution_count": null,
   "metadata": {},
   "outputs": [],
   "source": [
    "class car:\n",
    "    def __init__(self, args):\n",
    "        brand, model, price =  args\n",
    "        self.brand = brand\n",
    "        self.model = model\n",
    "        self.price = price\n",
    "\n",
    "def average_prices(cars):\n",
    "    # BEGIN_YOUR_CODE\n",
    "    dict_of_list_of_price = {}\n",
    "    dict_of_price = {}\n",
    "    \n",
    "    for car in cars:\n",
    "        # Distribute car prices according to its brand\n",
    "        if car.brand not in dict_of_list_of_price.keys():\n",
    "            dict_of_list_of_price[car.brand] = [car.price]\n",
    "        \n",
    "        else:\n",
    "            dict_of_list_of_price[car.brand].append(car.price)\n",
    "            \n",
    "    # Calculate average privce on each brand\n",
    "    for key in dict_of_list_of_price.keys():\n",
    "        dict_of_price[key] = sum(dict_of_list_of_price[key]) / len(dict_of_list_of_price[key])\n",
    "        \n",
    "    return dict_of_price\n",
    "    # END_YOUR_CODE"
   ]
  },
  {
   "cell_type": "markdown",
   "metadata": {},
   "source": [
    "## Problem 4. Manhattan Distance [2 points]\n",
    "Given two numpy arrays `arr1` and `arr2`, implement function `manhattan_distance` that calculates Manhattan distance between `arr1` and `arr2`. <br>\n",
    "You need to utilize numpy library for this problem."
   ]
  },
  {
   "cell_type": "code",
   "execution_count": null,
   "metadata": {},
   "outputs": [],
   "source": [
    "def manhattan_distance(arr1, arr2):\n",
    "    # BEGIN_YOUR_CODE\n",
    "    distance_arr = np.abs(arr1 - arr2)\n",
    "    distance = np.sum(distance_arr)\n",
    "    \n",
    "    return distance\n",
    "    # END_YOUR_CODE"
   ]
  },
  {
   "cell_type": "markdown",
   "metadata": {},
   "source": [
    "## Problem 5. CSV Modification [5 points]\n",
    "Your goal is to modify given csv file with below constraints. <br>\n",
    "The inputs are paths of the original data and modified data. <br>\n",
    "You need to utilize pandas library for this problem.\n",
    "\n",
    "### Constraints\n",
    "- The requirements must be followed in the same order as given below.<br>\n",
    "  (If not, you might attain different results although you followed everything correctly.)\n",
    "1. The modified csv file should not contain columns `Cabin` and `Embarked`.\n",
    "2. The modified csv file should not contain missing values. <br>\n",
    "   All rows with a missing value needs to be dropped.\n",
    "3. The modified csv file should only have `survived` = 1.\n",
    "4. The column `Pclass` should be one hot encoding.\n",
    "5. Value of `Age` should be `young` if it is smaller than 65 and `old` otherwise."
   ]
  },
  {
   "cell_type": "code",
   "execution_count": null,
   "metadata": {},
   "outputs": [],
   "source": [
    "def titanic(original_file, modified_file):\n",
    "    # BEGIN_YOUR_CODE\n",
    "    df = pd.read_csv(original_file)  # Read original_file using dataframe type\n",
    "    \n",
    "    # Drop Cabin and Embarked columns\n",
    "    df.drop([\"Cabin\", \"Embarked\"], axis=\"columns\", inplace=True)\n",
    "    \n",
    "    # Drop rows that contains missing values\n",
    "    df.dropna(axis=\"rows\", inplace=True)\n",
    "    \n",
    "    # Drop row of perished ones\n",
    "    df.drop(df[df[\"Survived\"] == 0].index, axis=\"rows\", inplace=True)\n",
    "    \n",
    "    # One-hot encode Pclass\n",
    "    df.insert(2, \"Pclass1\", df[\"Pclass\"] == 1)\n",
    "    df[\"Pclass1\"] = df[\"Pclass1\"].apply(lambda x: 1 if x == True else 0)\n",
    "    \n",
    "    df.insert(3, \"Pclass2\", df[\"Pclass\"] == 2)\n",
    "    df[\"Pclass2\"] = df[\"Pclass2\"].apply(lambda x: 1 if x == True else 0)\n",
    "    \n",
    "    df.insert(4, \"Pclass3\", df[\"Pclass\"] == 3)\n",
    "    df[\"Pclass3\"] = df[\"Pclass3\"].apply(lambda x: 1 if x == True else 0)\n",
    "    \n",
    "    df.drop([\"Pclass\"], axis=\"columns\", inplace=True)\n",
    "    \n",
    "    # Map age to [\"young\", \"old\"]\n",
    "    df[\"Age\"] = df[\"Age\"].apply(lambda x: \"young\" if x < 65 else \"old\")\n",
    "    \n",
    "    # END_YOUR_CODE\n",
    "    df.to_csv(modified_file, index=False)"
   ]
  },
  {
   "cell_type": "markdown",
   "metadata": {},
   "source": [
    "## Problem 6. Employee and Department [6 points]\n",
    "For this problem, three csv files, `departments.csv`, `employees.csv` and `employees2.csv`, are given. <br>\n",
    "There are 2 sub problems. <br>\n",
    "You need to utilize pandas library for this problem."
   ]
  },
  {
   "cell_type": "markdown",
   "metadata": {},
   "source": [
    "### 6.a Employee Table [3 points]\n",
    "Make employee table that has `name`, `salary` and `department_name` as columns. <br>\n",
    "Note that each department has its own `department_id` and `department_name`."
   ]
  },
  {
   "cell_type": "code",
   "execution_count": null,
   "metadata": {},
   "outputs": [],
   "source": [
    "def emp_table(dep, emp1, emp2):\n",
    "    # BEGIN_YOUR_CODE\n",
    "    dep_df = pd.read_csv(dep)\n",
    "    emp1_df = pd.read_csv(emp1)\n",
    "    emp2_df = pd.read_csv(emp2)\n",
    "    \n",
    "    df = pd.concat([emp1_df, emp2_df])\n",
    "    df.drop([\"employee_id\"], axis=\"columns\", inplace=True)\n",
    "    dep_mapping = pd.Series(dep_df.department_name.values, index=dep_df.department_id).to_dict()\n",
    "    df[\"department_id\"] = df[\"department_id\"].map(dep_mapping)\n",
    "    df.rename(columns={'department_id':'department_name'}, inplace=True)\n",
    "    df = df[[\"name\", \"salary\", \"department_name\"]]\n",
    "    \n",
    "    # END_YOUR_CODE\n",
    "    return df"
   ]
  },
  {
   "cell_type": "markdown",
   "metadata": {},
   "source": [
    "### 6.b Highest Salary [3 points]\n",
    "Find an employee with the highest salary of each department. <br>\n",
    "The output must be a dictionary which contains `department_name` as a key and an employee's `name` as a value. <br>\n",
    "You can use `emp_table` in 6.a."
   ]
  },
  {
   "cell_type": "code",
   "execution_count": null,
   "metadata": {},
   "outputs": [],
   "source": [
    "def highest_salary(dep, emp1, emp2):\n",
    "    # BEGIN_YOUR_CODE\n",
    "    df = emp_table(dep, emp1, emp2)\n",
    "    dict_of_height_salery = {}\n",
    "    \n",
    "    for dep in df[\"department_name\"].unique():\n",
    "        df_of_dep = df.loc[df['department_name'] == dep]\n",
    "        dict_of_height_salery[df_of_dep.iloc[df_of_dep[\"salary\"].argmax()][\"department_name\"]] = df_of_dep.iloc[df_of_dep[\"salary\"].argmax()][\"salary\"]\n",
    "    \n",
    "    return dict_of_height_salery\n",
    "    # END_YOUR_CODE"
   ]
  }
 ],
 "metadata": {
  "anaconda-cloud": {},
  "kernelspec": {
   "display_name": "reler",
   "language": "python",
   "name": "reler"
  },
  "language_info": {
   "codemirror_mode": {
    "name": "ipython",
    "version": 3
   },
   "file_extension": ".py",
   "mimetype": "text/x-python",
   "name": "python",
   "nbconvert_exporter": "python",
   "pygments_lexer": "ipython3",
   "version": "3.8.13"
  }
 },
 "nbformat": 4,
 "nbformat_minor": 1
}
